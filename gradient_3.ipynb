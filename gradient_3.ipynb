{
 "cells": [
  {
   "cell_type": "markdown",
   "metadata": {},
   "source": [
    "#compare gradient calculation with convolution (OpenCV) and ft (SciPy)"
   ]
  },
  {
   "cell_type": "markdown",
   "metadata": {},
   "source": [
    "##image filtering (convolution): calculate first derivative in x- and y-direction\n",
    "\n",
    "`cv2.Sobel(src, ddepth, xorder, yorder, ksize) → dst`\n",
    "\n",
    "\"` xorder=1, yorder=0, ksize=3 `\" leads to the kernel: $\\begin{bmatrix}\n",
    "-1 & -2 & -1\\\\\n",
    "0 & 0 & 0\\\\\n",
    "1 & 2 & 1\n",
    "\\end{bmatrix}$\n",
    "\n",
    "and \"`xorder=0, yorder=1, ksize=3`\" leads to: $\\begin{bmatrix}\n",
    "-1 & 0 & 1\\\\\n",
    "-2 & 0 & 2\\\\\n",
    "-1 & 0 & 1\n",
    "\\end{bmatrix}$\n",
    "\n",
    "witch combines gaussian smoothing and differentiation\n",
    "\n",
    "the resulting images are 64bit float images (`ddepth=cv2.CV_64F`)\n",
    "\n",
    "see: http://docs.opencv.org/modules/imgproc/doc/filtering.html#sobel"
   ]
  },
  {
   "cell_type": "code",
   "execution_count": 1,
   "metadata": {
    "collapsed": false
   },
   "outputs": [
    {
     "name": "stdout",
     "output_type": "stream",
     "text": [
      "shape of gray image (height, width): (300, 400)\n"
     ]
    },
    {
     "data": {
      "text/plain": [
       "(<matplotlib.text.Text at 0xab86f78c>,\n",
       " ([], <a list of 0 Text xticklabel objects>),\n",
       " ([], <a list of 0 Text yticklabel objects>))"
      ]
     },
     "execution_count": 1,
     "metadata": {},
     "output_type": "execute_result"
    }
   ],
   "source": [
    "# make inline plots and images (built-in magic command of IPython)\n",
    "#%matplotlib inline\n",
    "import cv2\n",
    "import numpy as np\n",
    "from matplotlib import pyplot as plt\n",
    "\n",
    "img = cv2.imread('trian90.bmp',0)\n",
    "print('shape of gray image (height, width): ' + str(img.shape))\n",
    "\n",
    "sobelx = cv2.Sobel(img, cv2.CV_32F, 1, 0, ksize=3)\n",
    "sobely = cv2.Sobel(img, cv2.CV_32F, 0, 1, ksize=3)\n",
    "\n",
    "plt.figure\n",
    "plt.subplot(2,2,1),plt.imshow(img,cmap = 'gray')\n",
    "plt.title('Original'), plt.xticks([]), plt.yticks([])\n",
    "plt.subplot(2,2,3),plt.imshow(sobelx,cmap = 'gray')\n",
    "plt.title('Sobel X'), plt.xticks([]), plt.yticks([])\n",
    "plt.subplot(2,2,4),plt.imshow(sobely,cmap = 'gray')\n",
    "plt.title('Sobel Y'), plt.xticks([]), plt.yticks([])"
   ]
  },
  {
   "cell_type": "markdown",
   "metadata": {},
   "source": [
    "**calculate absolut value (magnitude) and direction (phase) of the gradient**\n",
    "\n",
    "http://docs.opencv.org/modules/core/doc/operations_on_arrays.html?highlight=ft#magnitude\n",
    "\n",
    "http://docs.opencv.org/modules/core/doc/operations_on_arrays.html?highlight=ft#phase\n",
    "\n",
    "for histogram calculation see: http://opencv-python-tutroals.readthedocs.org/en/latest/py_tutorials/py_imgproc/py_histograms/py_histogram_begins/py_histogram_begins.html\n",
    "\n",
    "`cv2.calcHist(images, channels, mask, histSize, ranges) → hist`"
   ]
  },
  {
   "cell_type": "code",
   "execution_count": 2,
   "metadata": {
    "collapsed": false
   },
   "outputs": [
    {
     "name": "stdout",
     "output_type": "stream",
     "text": [
      "-428.0\n",
      "276.0\n",
      "-295.0\n",
      "398.0\n"
     ]
    }
   ],
   "source": [
    "print(np.min(sobelx))\n",
    "print(np.max(sobelx))\n",
    "print(np.min(sobely))\n",
    "print(np.max(sobely))"
   ]
  },
  {
   "cell_type": "code",
   "execution_count": 3,
   "metadata": {
    "collapsed": true
   },
   "outputs": [],
   "source": [
    "# calculate magnitude and phase\n",
    "mag = cv2.magnitude(sobelx, sobely)\n",
    "phase = cv2.phase(sobelx, sobely, angleInDegrees = 1)"
   ]
  },
  {
   "cell_type": "code",
   "execution_count": 4,
   "metadata": {
    "collapsed": false
   },
   "outputs": [],
   "source": [
    "# analyse magnitude values to find threshold\n",
    "histmag = cv2.calcHist([mag],[0],None,[256],[0, int(mag.max())])\n",
    "MAG_THRESH = 100\n",
    "\n",
    "# use magnitude as mask for the phase (scaling!!)\n",
    "mask = np.uint8(255.0 / mag.max() * mag)\n",
    "ret, mask = cv2.threshold(mask, MAG_THRESH, 1, cv2.THRESH_BINARY)\n",
    "mphase = cv2.multiply(mask, phase, dtype = cv2.CV_32F)\n",
    "\n",
    "# look for the angles in gradient on strong edges\n",
    "hist = cv2.calcHist([phase],[0],None,[360],[0,359])\n",
    "\n",
    "# find masked values and set them to -1, calculate histogram from 0...359\n",
    "mphase[mask == 0] = -1\n",
    "histmphase = cv2.calcHist([mphase],[0],None,[360],[0,359])\n",
    "\n",
    "# save histogram as text\n",
    "np.savetxt('magnitude_hist.txt', histmag, fmt = '%04.1f', header = 'histogram values of magnitude')\n",
    "np.savetxt('phase_hist.txt', hist, fmt = '%d', header = 'histogram values of phase, bins in degree')\n",
    "np.savetxt('mphase.txt', mphase, fmt = '%d', header = 'masked values of phase in degree')\n",
    "np.savetxt('mphase_hist.txt', histmphase, fmt = '%d')"
   ]
  },
  {
   "cell_type": "code",
   "execution_count": 5,
   "metadata": {
    "collapsed": false
   },
   "outputs": [
    {
     "name": "stdout",
     "output_type": "stream",
     "text": [
      "shape masked phase: (300, 400)\n",
      "<type 'numpy.ndarray'>\n"
     ]
    }
   ],
   "source": [
    "print('shape masked phase: '+str(mphase.shape))\n",
    "print(type(mphase))"
   ]
  },
  {
   "cell_type": "code",
   "execution_count": 6,
   "metadata": {
    "collapsed": false
   },
   "outputs": [
    {
     "data": {
      "text/plain": [
       "<matplotlib.text.Text at 0xaa67630c>"
      ]
     },
     "execution_count": 6,
     "metadata": {},
     "output_type": "execute_result"
    }
   ],
   "source": [
    "# show images and results\n",
    "plt.figure()\n",
    "plt.subplot(2,3,1)\n",
    "plt.imshow(mag, cmap = 'gray'), plt.xticks([]), plt.yticks([])\n",
    "plt.title('magnitude')\n",
    "\n",
    "plt.subplot(2,3,2)\n",
    "plt.imshow(mask, cmap = 'gray')\n",
    "plt.title('mask'), plt.xticks([]), plt.yticks([])\n",
    "\n",
    "plt.subplot(2,3,4)\n",
    "plt.plot(histmag)\n",
    "plt.ylim(0,200)\n",
    "plt.plot([MAG_THRESH, MAG_THRESH],[0, 1000],'-r')\n",
    "plt.title('histogram of magnitude (with threshold for mask)')\n",
    "\n",
    "plt.subplot(2,3,3)\n",
    "plt.imshow(phase, cmap = 'gist_rainbow', vmin = 0, vmax = 360)\n",
    "plt.title('phase'), plt.xticks([]), plt.yticks([])\n",
    "plt.colorbar();\n",
    "\n",
    "# plot masked phase and histogram of phase\n",
    "plt.figure()\n",
    "plt.subplot(1,2,1)\n",
    "mphase[mask == 0] = np.nan\n",
    "plt.imshow(mphase, cmap = 'gist_rainbow', vmin = 0, vmax = 360)\n",
    "plt.title('mask * phase'), plt.xticks([]), plt.yticks([])\n",
    "plt.colorbar();\n",
    "\n",
    "plt.subplot(1,2,2)\n",
    "plt.plot(hist / max(hist), color = 'b', linewidth = 1)\n",
    "plt.plot(histmphase / max(histmphase), color = 'g', linewidth = 2)\n",
    "plt.title('histogram of phase (normalized)')\n",
    "\n",
    "#plt.show()"
   ]
  },
  {
   "cell_type": "markdown",
   "metadata": {},
   "source": [
    "##denoise with gaussian psf and calculate gradient with fourier transformation\n"
   ]
  },
  {
   "cell_type": "markdown",
   "metadata": {},
   "source": [
    "$$\\frac{df}{dx}=ik_x \\cdot FT(f) \\quad k_x = 2 \\pi u$$"
   ]
  },
  {
   "cell_type": "code",
   "execution_count": 7,
   "metadata": {
    "collapsed": false
   },
   "outputs": [],
   "source": [
    "import math\n",
    "\n",
    "# get frequency scale\n",
    "[cy,cx]=img.shape\n",
    "umax = cx / 2.0\n",
    "vmax = cy / 2.0\n",
    "\n",
    "u = np.fft.ifftshift(np.linspace(-umax, +umax, cx, endpoint = False))\n",
    "v = np.fft.ifftshift(np.linspace(-vmax, +vmax, cy, endpoint = False))\n",
    "\n",
    "# gaussian for noise reduction\n",
    "sigmaX = 80.0\n",
    "sigmaY = 60.0\n",
    "U, V = np.meshgrid(u, v)\n",
    "gauss = 1.0/(2.0 * math.pi * sigmaX * sigmaY) * np.exp(-(np.square(U / sigmaX) / 2 + np.square(V / sigmaY) / 2))\n",
    "\n",
    "# the gradient funktion\n",
    "gradX = np.matrix(2.0 * u * math.pi * 1j)\n",
    "gradY = np.transpose(np.matrix(2.0 * v * math.pi * 1j))\n",
    "\n",
    "# fft to convert the image to freq domain and get FT(d/dx) and FT(d/dy)\n",
    "FIMG = np.fft.fft2(img)\n",
    "FIMG = np.multiply(FIMG, gauss)\n",
    "dxFIMG = np.multiply(FIMG, gradX)\n",
    "dyFIMG = np.multiply(FIMG, gradY)\n",
    "\n",
    "# inverse fft to get the image back \n",
    "dxImg = np.fft.ifft2(dxFIMG)\n",
    "dyImg = np.fft.ifft2(dyFIMG)"
   ]
  },
  {
   "cell_type": "markdown",
   "metadata": {},
   "source": [
    "\n"
   ]
  },
  {
   "cell_type": "code",
   "execution_count": 8,
   "metadata": {
    "collapsed": false
   },
   "outputs": [
    {
     "name": "stdout",
     "output_type": "stream",
     "text": [
      "(400,)\n",
      "(300,)\n",
      "(1, 400)\n",
      "(300, 1)\n",
      "-0.64629630399\n",
      "0.429197578111\n",
      "-0.34462099027\n",
      "0.457760769818\n",
      "-0.000512429355584\n",
      "0.000512429355584\n",
      "-0.00027158836358\n",
      "0.00027158836358\n",
      "(300,)\n",
      "(400,)\n"
     ]
    }
   ],
   "source": [
    "print(np.shape(u))\n",
    "print(np.shape(v))\n",
    "\n",
    "print(np.shape(gradX))\n",
    "print(np.shape(gradY))\n",
    "\n",
    "print(np.min(dxImg.real))\n",
    "print(np.max(dxImg.real))\n",
    "print(np.min(dyImg.real))\n",
    "print(np.max(dyImg.real))\n",
    "\n",
    "print(np.min(dxImg.imag))\n",
    "print(np.max(dxImg.imag))\n",
    "print(np.min(dyImg.imag))\n",
    "print(np.max(dyImg.imag))\n",
    "\n",
    "print(np.shape(gauss[0:,0]))\n",
    "print(np.shape(gauss[0,0:]))"
   ]
  },
  {
   "cell_type": "code",
   "execution_count": 9,
   "metadata": {
    "collapsed": false
   },
   "outputs": [
    {
     "name": "stderr",
     "output_type": "stream",
     "text": [
      "/usr/lib/python2.7/dist-packages/numpy/core/numeric.py:460: ComplexWarning: Casting complex values to real discards the imaginary part\n",
      "  return array(a, dtype, copy=False, order=order)\n"
     ]
    }
   ],
   "source": [
    "# show images and results\n",
    "plt.figure\n",
    "plt.subplot(2,3,1),plt.imshow(img,cmap = 'gray')\n",
    "plt.title('Original'), plt.xticks([]), plt.yticks([])\n",
    "\n",
    "plt.subplot(2,3,2)\n",
    "mmin=np.min([dxImg.real, dyImg.real])\n",
    "mmax=np.max([dxImg.real, dyImg.real])\n",
    "plt.imshow(dxImg.real, cmap = 'gray', vmin = mmin, vmax = mmax), plt.xticks([]), plt.yticks([])\n",
    "plt.title('real part of df/dx')\n",
    "plt.subplot(2,3,3)\n",
    "plt.imshow(dyImg.real, cmap = 'gray', vmin = mmin, vmax = mmax), plt.xticks([]), plt.yticks([])\n",
    "plt.title('real part of df/dy')\n",
    "\n",
    "plt.subplot(2,3,4)\n",
    "plt.imshow(cv2.magnitude(dxImg.real, dyImg.real), cmap = 'gray'), plt.xticks([]), plt.yticks([])\n",
    "plt.title('magnitude of gradient')\n",
    "plt.subplot(2,3,5)\n",
    "plt.imshow(cv2.phase(dxImg.real, dyImg.real, angleInDegrees = 1), cmap = 'gist_rainbow', vmin = 0, vmax = 360), plt.xticks([]), plt.yticks([])\n",
    "plt.title('phase of gradient')\n",
    "plt.colorbar();\n",
    "\n",
    "# plot slices in u and v from gaussian\n",
    "plt.figure()\n",
    "plt.plot(np.fft.fftshift(v), np.fft.fftshift(gauss[0:, 0])/max(gauss[0:, 0]))\n",
    "plt.plot(np.fft.fftshift(u), np.fft.fftshift(gauss[0, 0:])/max(gauss[0, 0:]))\n",
    "plt.plot(np.fft.fftshift(u), np.fft.fftshift(np.fft.fft([1, 2, 1], len(u))) / 4.0)\n",
    "plt.title('gaussian filter')\n",
    "\n",
    "plt.show()"
   ]
  }
 ],
 "metadata": {
  "kernelspec": {
   "display_name": "Python 2",
   "language": "python",
   "name": "python2"
  },
  "language_info": {
   "codemirror_mode": {
    "name": "ipython",
    "version": 2
   },
   "file_extension": ".py",
   "mimetype": "text/x-python",
   "name": "python",
   "nbconvert_exporter": "python",
   "pygments_lexer": "ipython2",
   "version": "2.7.6"
  }
 },
 "nbformat": 4,
 "nbformat_minor": 0
}
